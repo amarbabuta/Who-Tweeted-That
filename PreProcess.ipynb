{
  "nbformat": 4,
  "nbformat_minor": 0,
  "metadata": {
    "colab": {
      "name": "PreProcess.ipynb",
      "provenance": [],
      "collapsed_sections": [],
      "toc_visible": true
    },
    "kernelspec": {
      "name": "python3",
      "display_name": "Python 3"
    },
    "accelerator": "TPU"
  },
  "cells": [
    {
      "cell_type": "markdown",
      "metadata": {
        "id": "KJMXxn5Nm4IJ",
        "colab_type": "text"
      },
      "source": [
        "##1. Download Packages"
      ]
    },
    {
      "cell_type": "code",
      "metadata": {
        "id": "SGYeWvmtgOy_",
        "colab_type": "code",
        "outputId": "cb00737b-251a-45a8-f15a-06909b647e83",
        "colab": {
          "base_uri": "https://localhost:8080/",
          "height": 136
        }
      },
      "source": [
        "#import numpy as np\n",
        "import pandas as pd\n",
        "#import matplotlib.pyplot as plt\n",
        "#import seaborn as sns\n",
        "from pathlib import Path\n",
        "from collections import Counter\n",
        "import nltk\n",
        "import re\n",
        "import math\n",
        "nltk.download('stopwords')\n",
        "nltk.download('wordnet')\n",
        "nltk.download('averaged_perceptron_tagger')\n",
        "from nltk.corpus import stopwords\n",
        "from nltk import word_tokenize, pos_tag\n",
        "from nltk.corpus import wordnet\n",
        "from nltk.stem import WordNetLemmatizer\n",
        "import random"
      ],
      "execution_count": 1,
      "outputs": [
        {
          "output_type": "stream",
          "text": [
            "[nltk_data] Downloading package stopwords to /root/nltk_data...\n",
            "[nltk_data]   Unzipping corpora/stopwords.zip.\n",
            "[nltk_data] Downloading package wordnet to /root/nltk_data...\n",
            "[nltk_data]   Unzipping corpora/wordnet.zip.\n",
            "[nltk_data] Downloading package averaged_perceptron_tagger to\n",
            "[nltk_data]     /root/nltk_data...\n",
            "[nltk_data]   Unzipping taggers/averaged_perceptron_tagger.zip.\n"
          ],
          "name": "stdout"
        }
      ]
    },
    {
      "cell_type": "markdown",
      "metadata": {
        "id": "qW8q2mexnGGa",
        "colab_type": "text"
      },
      "source": [
        "##2. Connect to My Google Drive"
      ]
    },
    {
      "cell_type": "code",
      "metadata": {
        "id": "206o9zJQ05b5",
        "colab_type": "code",
        "outputId": "4cca3f2d-114e-4395-e446-785e1c1619cc",
        "colab": {
          "base_uri": "https://localhost:8080/",
          "height": 122
        }
      },
      "source": [
        "## Connect to My Google Drive\n",
        "from google.colab import drive\n",
        "drive.mount('/content/drive')"
      ],
      "execution_count": 2,
      "outputs": [
        {
          "output_type": "stream",
          "text": [
            "Go to this URL in a browser: https://accounts.google.com/o/oauth2/auth?client_id=947318989803-6bn6qk8qdgf4n4g3pfee6491hc0brc4i.apps.googleusercontent.com&redirect_uri=urn%3Aietf%3Awg%3Aoauth%3A2.0%3Aoob&scope=email%20https%3A%2F%2Fwww.googleapis.com%2Fauth%2Fdocs.test%20https%3A%2F%2Fwww.googleapis.com%2Fauth%2Fdrive%20https%3A%2F%2Fwww.googleapis.com%2Fauth%2Fdrive.photos.readonly%20https%3A%2F%2Fwww.googleapis.com%2Fauth%2Fpeopleapi.readonly&response_type=code\n",
            "\n",
            "Enter your authorization code:\n",
            "··········\n",
            "Mounted at /content/drive\n"
          ],
          "name": "stdout"
        }
      ]
    },
    {
      "cell_type": "markdown",
      "metadata": {
        "id": "Fmpmkg6InOk1",
        "colab_type": "text"
      },
      "source": [
        "##3. Twitter Text Processing"
      ]
    },
    {
      "cell_type": "code",
      "metadata": {
        "id": "gvn3nvXFNw3I",
        "colab_type": "code",
        "outputId": "1800f6c4-6267-421b-95d2-1c7d01fda234",
        "colab": {
          "base_uri": "https://localhost:8080/",
          "height": 34
        }
      },
      "source": [
        "## Test RE\n",
        "kkk = \"slk@@dj @@ 'sldkjf's fdl' aa_ \"\n",
        "comp = re.compile('( \\'\\w)|(\\w\\' )|_|[^\\w\\' ]+|http')\n",
        "comp.sub(' ', kkk)"
      ],
      "execution_count": 3,
      "outputs": [
        {
          "output_type": "execute_result",
          "data": {
            "text/plain": [
              "\"slk dj   ldkjf's fd aa  \""
            ]
          },
          "metadata": {
            "tags": []
          },
          "execution_count": 3
        }
      ]
    },
    {
      "cell_type": "code",
      "metadata": {
        "id": "Qy6TL9CiLZKK",
        "colab_type": "code",
        "colab": {}
      },
      "source": [
        "## Tweets Processing\n",
        "\n",
        "## Keep English, digital and space\n",
        "def get_en_text(text):\n",
        "    comp = re.compile('( \\'\\w)|(\\w\\' )|_|[^\\w\\' ]+|http')\n",
        "    text = comp.sub(' ', text).lower()\n",
        "    return text  #Sue\n",
        "\n",
        "## Word tokenization and lemmatization\n",
        "def get_lemma_tokens(text):\n",
        "    lem = WordNetLemmatizer()\n",
        "    tokens = get_en_text(text).split()\n",
        "    for idx,word in enumerate(tokens):\n",
        "        tokens[idx] = lem.lemmatize(word, 'v')\n",
        "        if tokens[idx] != word:\n",
        "            continue\n",
        "        tokens[idx] = lem.lemmatize(word, 'n')\n",
        "        if tokens[idx] != word:\n",
        "            continue\n",
        "        tokens[idx] = lem.lemmatize(word, 'a')\n",
        "        if tokens[idx] != word:\n",
        "            continue\n",
        "        tokens[idx] = lem.lemmatize(word, 'r')\n",
        "        if tokens[idx] != word:\n",
        "            continue\n",
        "    return tokens\n",
        "\n",
        "\n",
        "## Get clean text, remove stopwords\n",
        "def get_clean_text(text):\n",
        "    tokens = get_lemma_tokens(text)\n",
        "    stopWords = set(stopwords.words('english'))\n",
        "    clean_text = ''\n",
        "    for token in tokens:\n",
        "        if token not in stopWords:\n",
        "            clean_text += ' '+ token\n",
        "    return clean_text\n",
        "\n",
        "\n",
        "data_folder = Path(\"drive/My Drive/SML/Data/Original\")\n",
        "train_file = data_folder / \"train_tweets.txt\"\n",
        "labels = []\n",
        "tweets = []\n",
        "\n",
        "with open(train_file) as train_tweets:\n",
        "    lines = train_tweets.read().splitlines()\n",
        "    for i,l in enumerate(lines, start = 1):\n",
        "        line_data = l.split('\\t')\n",
        "        tweet = get_clean_text(line_data[1])\n",
        "        user = line_data[0]\n",
        "        labels.append(user)\n",
        "        tweets.append(tweet)\n",
        "          \n",
        "test_file = data_folder / \"test_tweets_unlabeled.txt\"\n",
        "test_text = []\n",
        "\n",
        "with open(test_file) as test_tweets:\n",
        "    lines = test_tweets.read().splitlines()\n",
        "    for l in lines:\n",
        "        test_text.append(get_clean_text(l))\n",
        "        \n",
        "test_data = pd.DataFrame(test_text,columns =['tweet'])\n",
        "test_data.to_csv('drive/My Drive/SML/Data/Processed/test_clean_data.csv', encoding='utf-8')\n",
        "        \n",
        "\n",
        "data = list(zip(labels,tweets)) # 328932 Tweets\n"
      ],
      "execution_count": 0,
      "outputs": []
    },
    {
      "cell_type": "code",
      "metadata": {
        "id": "c6qr40__XQ5K",
        "colab_type": "code",
        "outputId": "9faeafb5-a0e4-4481-da83-2eadadf9be39",
        "colab": {
          "base_uri": "https://localhost:8080/",
          "height": 442
        }
      },
      "source": [
        "data[:20]"
      ],
      "execution_count": 6,
      "outputs": [
        {
          "output_type": "execute_result",
          "data": {
            "text/plain": [
              "[('8746', \" handle let's try catch live next week\"),\n",
              " ('8746', \" go watch grey's big screen thursday indulgence\"),\n",
              " ('8746', ' handle pleasure patrick hope well'),\n",
              " ('8746',\n",
              "  ' handle hi travel lot lot come next month recover pneumonia well r u'),\n",
              " ('8746',\n",
              "  ' rt handle look drink clean go green purchase clear2go bottle w filter near handle'),\n",
              " ('8746',\n",
              "  ' rt handle ft hood official confirm 2 soldier initially hold suspect release'),\n",
              " ('8746', ' rt handle mickey mouse get make bite ly 1ustfu handle'),\n",
              " ('8746', ' handle u get invite justin'),\n",
              " ('8746', ' handle think still good friend lol'),\n",
              " ('8746', \" handle remember fine u what's new\"),\n",
              " ('8746', \" handle that's great good coach\"),\n",
              " ('8746', ' handle want picture u sit lol understand'),\n",
              " ('8746', ' handle thank rts go womma summit'),\n",
              " ('8746', ' handle grrr must go crazy'),\n",
              " ('8746', ' handle hi catch trip news dale'),\n",
              " ('8746', ' rt handle look great list follow check mine bite ly jplists'),\n",
              " ('8746',\n",
              "  ' rt handle retailer engage customer social medium could miss boat ow ly zxvh'),\n",
              " ('8746',\n",
              "  \" rt handle director global brand market hotel casino's 125k 30 bonus orlando fl bite ly 4kumbb job twitjobs\"),\n",
              " ('8746', ' still car want jump 45 minute eta'),\n",
              " ('8746', ' rt handle surround people lift high oprah winfrey inspiration')]"
            ]
          },
          "metadata": {
            "tags": []
          },
          "execution_count": 6
        }
      ]
    },
    {
      "cell_type": "code",
      "metadata": {
        "id": "mOTyQE7Ocz7U",
        "colab_type": "code",
        "outputId": "f05c379a-31ab-4d94-a762-e48249d30a76",
        "colab": {
          "base_uri": "https://localhost:8080/",
          "height": 34
        }
      },
      "source": [
        "len(data)"
      ],
      "execution_count": 7,
      "outputs": [
        {
          "output_type": "execute_result",
          "data": {
            "text/plain": [
              "328932"
            ]
          },
          "metadata": {
            "tags": []
          },
          "execution_count": 7
        }
      ]
    },
    {
      "cell_type": "code",
      "metadata": {
        "id": "wnmuN9jkE_JZ",
        "colab_type": "code",
        "outputId": "c79e8e85-197c-4383-af50-8cfe2d812f90",
        "colab": {
          "base_uri": "https://localhost:8080/",
          "height": 34
        }
      },
      "source": [
        "len(test_data)"
      ],
      "execution_count": 8,
      "outputs": [
        {
          "output_type": "execute_result",
          "data": {
            "text/plain": [
              "35437"
            ]
          },
          "metadata": {
            "tags": []
          },
          "execution_count": 8
        }
      ]
    },
    {
      "cell_type": "code",
      "metadata": {
        "id": "PRnNtQ-bY3Ze",
        "colab_type": "code",
        "colab": {}
      },
      "source": [
        "\n",
        "columnsname = ['user','tweet']\n",
        "alldata = pd.DataFrame(columns=columnsname, data=data)\n",
        "alldata.to_csv('drive/My Drive/SML/Data/Processed/all_clean_data.csv', encoding='utf-8')"
      ],
      "execution_count": 0,
      "outputs": []
    },
    {
      "cell_type": "code",
      "metadata": {
        "id": "_gVkeHqKXs0b",
        "colab_type": "code",
        "outputId": "00b96937-1d2d-4710-b9ba-5875dbcf4738",
        "colab": {
          "base_uri": "https://localhost:8080/",
          "height": 51
        }
      },
      "source": [
        "random.shuffle(data)\n",
        "\n",
        "train_test_ratio = 1  #6/10\n",
        "use_size = math.floor(len(data) * train_test_ratio)\n",
        "train_size = int(use_size*9/10)\n",
        "print(use_size)\n",
        "print(train_size)\n",
        "\n",
        "# Partial Training Data for training\n",
        "traindata = pd.DataFrame(columns=columnsname, data=data[:train_size])\n",
        "traindata.to_csv('drive/My Drive/SML/Data/Processed/train.csv', encoding='utf-8')\n",
        "\n",
        "# Partial Training Data for Validation\n",
        "testdata = pd.DataFrame(columns=columnsname, data=data[train_size:use_size])\n",
        "testdata.to_csv('drive/My Drive/SML/Data/Processed/test.csv', encoding='utf-8')\n"
      ],
      "execution_count": 12,
      "outputs": [
        {
          "output_type": "stream",
          "text": [
            "328932\n",
            "296038\n"
          ],
          "name": "stdout"
        }
      ]
    },
    {
      "cell_type": "code",
      "metadata": {
        "id": "OAbCfnr8abEE",
        "colab_type": "code",
        "colab": {}
      },
      "source": [
        "random_labels,random_tweets = map(list,zip(*data))\n",
        "all_text = random_tweets\n",
        "all_labels = random_labels\n",
        "train_text = all_text[:train_size]\n",
        "train_label = all_labels[:train_size]\n",
        "test_text = all_text[train_size:]\n",
        "test_label = all_labels[train_size:]"
      ],
      "execution_count": 0,
      "outputs": []
    },
    {
      "cell_type": "markdown",
      "metadata": {
        "id": "40aRU1UIibQ2",
        "colab_type": "text"
      },
      "source": [
        "##4. View the Distribution Status of Tweets of Different Users"
      ]
    },
    {
      "cell_type": "code",
      "metadata": {
        "id": "RCFvEeoue0Bb",
        "colab_type": "code",
        "outputId": "feaf37e8-dd95-47e6-fddc-9249a883a5a0",
        "colab": {
          "base_uri": "https://localhost:8080/",
          "height": 54
        }
      },
      "source": [
        "from collections import Counter\n",
        "user_frequency = Counter(all_labels)\n",
        "print(user_frequency.most_common(20))"
      ],
      "execution_count": 26,
      "outputs": [
        {
          "output_type": "stream",
          "text": [
            "[('4185', 284), ('319', 273), ('5519', 273), ('4267', 265), ('4562', 264), ('1698', 256), ('3220', 254), ('1171', 248), ('6898', 247), ('3989', 244), ('1896', 237), ('1669', 231), ('6428', 228), ('4974', 224), ('7362', 224), ('6841', 223), ('2203', 221), ('9911', 221), ('2686', 218), ('1628', 216)]\n"
          ],
          "name": "stdout"
        }
      ]
    },
    {
      "cell_type": "code",
      "metadata": {
        "id": "T0a-g8myjg2p",
        "colab_type": "code",
        "outputId": "a576a979-972e-4c7b-b7b4-804828e250f7",
        "colab": {
          "base_uri": "https://localhost:8080/",
          "height": 34
        }
      },
      "source": [
        "user_tweets_num = list(user_frequency.values())\n",
        "print(user_tweets_num[:20])"
      ],
      "execution_count": 27,
      "outputs": [
        {
          "output_type": "stream",
          "text": [
            "[16, 16, 39, 15, 20, 33, 20, 35, 84, 37, 36, 37, 39, 165, 19, 10, 18, 55, 84, 104]\n"
          ],
          "name": "stdout"
        }
      ]
    },
    {
      "cell_type": "code",
      "metadata": {
        "id": "gZdMipLBmSaj",
        "colab_type": "code",
        "colab": {}
      },
      "source": [
        "import numpy as np\n",
        "import matplotlib.pyplot as plt"
      ],
      "execution_count": 0,
      "outputs": []
    },
    {
      "cell_type": "code",
      "metadata": {
        "id": "JoDhsVZ6kzyt",
        "colab_type": "code",
        "outputId": "70e350a6-b6c5-4c59-c4a9-610e248519b7",
        "colab": {
          "base_uri": "https://localhost:8080/",
          "height": 269
        }
      },
      "source": [
        "freq = sorted(user_tweets_num)\n",
        "\n",
        "plt.boxplot(x=freq,whis=1.5,vert=False,showmeans=True)\n",
        "plt.show()"
      ],
      "execution_count": 17,
      "outputs": [
        {
          "output_type": "display_data",
          "data": {
            "image/png": "[encoded data removed]",
            "text/plain": [
              "<Figure size 432x288 with 1 Axes>"
            ]
          },
          "metadata": {
            "tags": []
          }
        }
      ]
    },
    {
      "cell_type": "code",
      "metadata": {
        "id": "gBKFoLBS-r8R",
        "colab_type": "code",
        "outputId": "1060a649-f9ea-4fba-9fd4-c1e76b02dc50",
        "colab": {
          "base_uri": "https://localhost:8080/",
          "height": 34
        }
      },
      "source": [
        "q1 = np.percentile(freq,25)\n",
        "q1"
      ],
      "execution_count": 18,
      "outputs": [
        {
          "output_type": "execute_result",
          "data": {
            "text/plain": [
              "18.0"
            ]
          },
          "metadata": {
            "tags": []
          },
          "execution_count": 18
        }
      ]
    },
    {
      "cell_type": "code",
      "metadata": {
        "id": "t-IKhEd3_TOb",
        "colab_type": "code",
        "outputId": "6f35a879-4aed-4462-ae8c-74b27dac2f54",
        "colab": {
          "base_uri": "https://localhost:8080/",
          "height": 34
        }
      },
      "source": [
        "q3 = np.percentile(freq,75)\n",
        "q3"
      ],
      "execution_count": 19,
      "outputs": [
        {
          "output_type": "execute_result",
          "data": {
            "text/plain": [
              "38.0"
            ]
          },
          "metadata": {
            "tags": []
          },
          "execution_count": 19
        }
      ]
    },
    {
      "cell_type": "code",
      "metadata": {
        "id": "ddgh1Hns_cYh",
        "colab_type": "code",
        "outputId": "686622f7-fde7-4b3d-ea26-98ab6a9b36bf",
        "colab": {
          "base_uri": "https://localhost:8080/",
          "height": 34
        }
      },
      "source": [
        "q1 - 1.5*(q3-q1)"
      ],
      "execution_count": 20,
      "outputs": [
        {
          "output_type": "execute_result",
          "data": {
            "text/plain": [
              "-12.0"
            ]
          },
          "metadata": {
            "tags": []
          },
          "execution_count": 20
        }
      ]
    },
    {
      "cell_type": "code",
      "metadata": {
        "id": "FBMolEwnmjgf",
        "colab_type": "code",
        "outputId": "78184405-97fe-4675-e454-164a4b579cd3",
        "colab": {
          "base_uri": "https://localhost:8080/",
          "height": 283
        }
      },
      "source": [
        "median = np.median(freq)\n",
        "plt.bar(range(len(freq)), freq)\n",
        "plt.hlines(median, 0, len(freq),color=\"red\")\n",
        "plt.xlabel(\"Number of Users\")\n",
        "plt.ylabel(\"Number of Tweets\")\n",
        "plt.show()"
      ],
      "execution_count": 21,
      "outputs": [
        {
          "output_type": "display_data",
          "data": {
            "image/png": "[encoded data removed]",
            "text/plain": [
              "<Figure size 432x288 with 1 Axes>"
            ]
          },
          "metadata": {
            "tags": []
          }
        }
      ]
    },
    {
      "cell_type": "code",
      "metadata": {
        "colab_type": "code",
        "outputId": "aa5a02ca-b770-4dd0-a70f-28efb3b7bc64",
        "id": "eX7QAuwawHFz",
        "colab": {
          "base_uri": "https://localhost:8080/",
          "height": 170
        }
      },
      "source": [
        "print(pd.DataFrame(user_tweets_num).describe())"
      ],
      "execution_count": 22,
      "outputs": [
        {
          "output_type": "stream",
          "text": [
            "                 0\n",
            "count  9297.000000\n",
            "mean     35.380445\n",
            "std      28.146449\n",
            "min       1.000000\n",
            "25%      18.000000\n",
            "50%      32.000000\n",
            "75%      38.000000\n",
            "max     284.000000\n"
          ],
          "name": "stdout"
        }
      ]
    },
    {
      "cell_type": "markdown",
      "metadata": {
        "id": "x1YVf7colXD9",
        "colab_type": "text"
      },
      "source": [
        "##5. View training set data distribution"
      ]
    },
    {
      "cell_type": "code",
      "metadata": {
        "id": "aQf46evElbrw",
        "colab_type": "code",
        "outputId": "91ff8bd9-6a9d-42fb-fcc2-d0144b3955fd",
        "colab": {
          "base_uri": "https://localhost:8080/",
          "height": 269
        }
      },
      "source": [
        "tuser_frequency = Counter(train_label)\n",
        "tuser_tweets_num = list(tuser_frequency.values())\n",
        "tfreq = sorted(tuser_tweets_num)\n",
        "\n",
        "plt.boxplot(x=tfreq,whis=1.5,vert=False,showmeans=True)\n",
        "plt.show()"
      ],
      "execution_count": 23,
      "outputs": [
        {
          "output_type": "display_data",
          "data": {
            "image/png": "[encoded data removed]",
            "text/plain": [
              "<Figure size 432x288 with 1 Axes>"
            ]
          },
          "metadata": {
            "tags": []
          }
        }
      ]
    },
    {
      "cell_type": "code",
      "metadata": {
        "id": "UQwBmH8wmEjk",
        "colab_type": "code",
        "outputId": "f549fcac-d104-4be6-a53d-d86652bad241",
        "colab": {
          "base_uri": "https://localhost:8080/",
          "height": 283
        }
      },
      "source": [
        "tmedian = np.median(tfreq)\n",
        "plt.bar(range(len(tfreq)), tfreq)\n",
        "plt.hlines(tmedian, 0, len(tfreq),color=\"red\")\n",
        "plt.xlabel(\"Number of Users\")\n",
        "plt.ylabel(\"Number of Tweets\")\n",
        "plt.show()"
      ],
      "execution_count": 24,
      "outputs": [
        {
          "output_type": "display_data",
          "data": {
            "image/png": "[encoded data removed]",
            "text/plain": [
              "<Figure size 432x288 with 1 Axes>"
            ]
          },
          "metadata": {
            "tags": []
          }
        }
      ]
    },
    {
      "cell_type": "code",
      "metadata": {
        "id": "I24d4MtomN3a",
        "colab_type": "code",
        "outputId": "12ac8a68-7a5b-46fb-aeff-126506046273",
        "colab": {
          "base_uri": "https://localhost:8080/",
          "height": 170
        }
      },
      "source": [
        "print(pd.DataFrame(tuser_tweets_num).describe())"
      ],
      "execution_count": 25,
      "outputs": [
        {
          "output_type": "stream",
          "text": [
            "                 0\n",
            "count  9291.000000\n",
            "mean     31.862878\n",
            "std      25.391372\n",
            "min       1.000000\n",
            "25%      16.000000\n",
            "50%      28.000000\n",
            "75%      35.000000\n",
            "max     263.000000\n"
          ],
          "name": "stdout"
        }
      ]
    }
  ]
}