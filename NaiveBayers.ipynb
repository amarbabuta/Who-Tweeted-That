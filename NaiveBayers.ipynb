{
  "nbformat": 4,
  "nbformat_minor": 0,
  "metadata": {
    "colab": {
      "name": "NaiveBayers.ipynb",
      "provenance": [],
      "collapsed_sections": [],
      "toc_visible": true,
      "machine_shape": "hm"
    },
    "kernelspec": {
      "name": "python3",
      "display_name": "Python 3"
    },
    "accelerator": "GPU"
  },
  "cells": [
    {
      "cell_type": "markdown",
      "metadata": {
        "id": "Lsb05bXZLQWR",
        "colab_type": "text"
      },
      "source": [
        "## Multinomial Naive Bayes"
      ]
    },
    {
      "cell_type": "markdown",
      "metadata": {
        "id": "32wCNbKqpqMa",
        "colab_type": "text"
      },
      "source": [
        "##1. Import Relevant Packages "
      ]
    },
    {
      "cell_type": "code",
      "metadata": {
        "id": "BjY7pUcZNZly",
        "colab_type": "code",
        "colab": {}
      },
      "source": [
        "import pandas as pd \n",
        "from sklearn.feature_extraction.text import CountVectorizer, TfidfTransformer \n",
        "from sklearn.naive_bayes import MultinomialNB  "
      ],
      "execution_count": 0,
      "outputs": []
    },
    {
      "cell_type": "markdown",
      "metadata": {
        "id": "AhEH9TyLpwrC",
        "colab_type": "text"
      },
      "source": [
        "##2. Connect to My Google Drive "
      ]
    },
    {
      "cell_type": "code",
      "metadata": {
        "id": "o_BzHseq90-n",
        "colab_type": "code",
        "outputId": "a0d77a0e-f619-4931-ec4b-707c2eecf4b8",
        "colab": {
          "base_uri": "https://localhost:8080/",
          "height": 122
        }
      },
      "source": [
        "from google.colab import drive\n",
        "drive.mount('/content/drive')"
      ],
      "execution_count": 2,
      "outputs": [
        {
          "output_type": "stream",
          "text": [
            "Go to this URL in a browser: https://accounts.google.com/o/oauth2/auth?client_id=947318989803-6bn6qk8qdgf4n4g3pfee6491hc0brc4i.apps.googleusercontent.com&redirect_uri=urn%3Aietf%3Awg%3Aoauth%3A2.0%3Aoob&scope=email%20https%3A%2F%2Fwww.googleapis.com%2Fauth%2Fdocs.test%20https%3A%2F%2Fwww.googleapis.com%2Fauth%2Fdrive%20https%3A%2F%2Fwww.googleapis.com%2Fauth%2Fdrive.photos.readonly%20https%3A%2F%2Fwww.googleapis.com%2Fauth%2Fpeopleapi.readonly&response_type=code\n",
            "\n",
            "Enter your authorization code:\n",
            "··········\n",
            "Mounted at /content/drive\n"
          ],
          "name": "stdout"
        }
      ]
    },
    {
      "cell_type": "code",
      "metadata": {
        "id": "px7hDzHXOTDr",
        "colab_type": "code",
        "colab": {}
      },
      "source": [
        "## Used for entire training data and final test data\n",
        "\n",
        "traindf = pd.read_csv('drive/My Drive/SML/Data/Processed/all_clean_data.csv', encoding='UTF-8') \n",
        "testdf = pd.read_csv('drive/My Drive/SML/Data/Processed/test_clean_data.csv', encoding='UTF-8') \n",
        "user_list = traindf['user']\n",
        "tweet_list = traindf['tweet']\n",
        "#test_user_list = testdf['user'].tolist()\n",
        "test_tweet_list = testdf['tweet']"
      ],
      "execution_count": 0,
      "outputs": []
    },
    {
      "cell_type": "code",
      "metadata": {
        "id": "o-XNOita_mux",
        "colab_type": "code",
        "colab": {}
      },
      "source": [
        "## Used for partial training data and partial test data\n",
        "\n",
        "traindf = pd.read_csv('drive/My Drive/SML/Data/Processed/train.csv', encoding='UTF-8') \n",
        "testdf = pd.read_csv('drive/My Drive/SML/Data/Processed/test.csv', encoding='UTF-8') \n",
        "\n",
        "## Do not use .tolist() here. Otherwise the next step will occur errors.\n",
        "user_list = traindf['user']\n",
        "tweet_list = traindf['tweet']\n",
        "test_user_list = testdf['user']\n",
        "test_tweet_list = testdf['tweet']"
      ],
      "execution_count": 0,
      "outputs": []
    },
    {
      "cell_type": "code",
      "metadata": {
        "id": "xyU5_c-BznVq",
        "colab_type": "code",
        "outputId": "043aade5-f65f-4861-b673-84e11a0fe795",
        "colab": {
          "base_uri": "https://localhost:8080/",
          "height": 51
        }
      },
      "source": [
        "count_v1= CountVectorizer()\n",
        "\n",
        "## Use .values.astype('U') here\n",
        "## Otherwise, ValueError: np.nan is an invalid document, expected byte or unicode string.\n",
        "counts_train = count_v1.fit_transform(tweet_list.values.astype('U'))\n",
        "print(\"the shape of train is \"+repr(counts_train.shape))   \n",
        "count_v2 = CountVectorizer(vocabulary=count_v1.vocabulary_)\n",
        "counts_test = count_v2.fit_transform(test_tweet_list.values.astype('U'))\n",
        "print(\"the shape of test is \"+repr(counts_test.shape)) "
      ],
      "execution_count": 12,
      "outputs": [
        {
          "output_type": "stream",
          "text": [
            "the shape of train is (296038, 203973)\n",
            "the shape of test is (32894, 203973)\n"
          ],
          "name": "stdout"
        }
      ]
    },
    {
      "cell_type": "code",
      "metadata": {
        "id": "AtaJuKXEecoG",
        "colab_type": "code",
        "outputId": "db222401-3d40-4f0b-8f2c-020fbaa75eae",
        "colab": {
          "base_uri": "https://localhost:8080/",
          "height": 34
        }
      },
      "source": [
        "len(count_v1.vocabulary_)"
      ],
      "execution_count": 13,
      "outputs": [
        {
          "output_type": "execute_result",
          "data": {
            "text/plain": [
              "203973"
            ]
          },
          "metadata": {
            "tags": []
          },
          "execution_count": 13
        }
      ]
    },
    {
      "cell_type": "code",
      "metadata": {
        "id": "NwMkx26vS3mW",
        "colab_type": "code",
        "colab": {}
      },
      "source": [
        "tfidftransformer = TfidfTransformer()\n",
        "train_data = tfidftransformer.fit(counts_train).transform(counts_train)\n",
        "test_data = tfidftransformer.fit(counts_test).transform(counts_test)"
      ],
      "execution_count": 0,
      "outputs": []
    },
    {
      "cell_type": "code",
      "metadata": {
        "id": "TtoXXpPwSzZL",
        "colab_type": "code",
        "colab": {}
      },
      "source": [
        "from sklearn.naive_bayes import MultinomialNB  \n",
        "\n",
        "clf = MultinomialNB(alpha = 0.01)   \n",
        "clf.fit(train_data, user_list)  \n",
        "preds = clf.predict(test_data)\n",
        "num = 0\n",
        "preds = preds.tolist()\n",
        "for i,pred in enumerate(preds):\n",
        "    if int(pred) == int(test_user_list[i]):\n",
        "        num += 1\n",
        "print('precision_score:' + str(float(num) / len(preds)))"
      ],
      "execution_count": 0,
      "outputs": []
    }
  ]
}